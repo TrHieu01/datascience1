{
  "nbformat": 4,
  "nbformat_minor": 0,
  "metadata": {
    "colab": {
      "provenance": []
    },
    "kernelspec": {
      "name": "python3",
      "display_name": "Python 3"
    },
    "language_info": {
      "name": "python"
    }
  },
  "cells": [
    {
      "cell_type": "markdown",
      "source": [
        "# Data Science Introduction\n"
      ],
      "metadata": {
        "id": "LPkQ_hHhrjy0"
      }
    },
    {
      "cell_type": "markdown",
      "source": [
        "## Introduction\n",
        "This notebook provides an overview of key concepts in Data Science, including languages, libraries, tools, and arithmetic operations.\n"
      ],
      "metadata": {
        "id": "nF-n0ZHMrdnC"
      }
    },
    {
      "cell_type": "markdown",
      "source": [
        "## Data Science Languages\n",
        "- Python\n",
        "- R\n",
        "- SQL\n",
        "- Julia\n",
        "- Scala\n"
      ],
      "metadata": {
        "id": "I9St-8J_roFS"
      }
    },
    {
      "cell_type": "markdown",
      "source": [
        "## Data Science Libraries\n",
        "- NumPy\n",
        "- Pandas\n",
        "- Matplotlib\n",
        "- Scikit-learn\n",
        "- TensorFlow\n",
        "- Keras\n",
        "\n"
      ],
      "metadata": {
        "id": "LTrjzBwLrr6q"
      }
    },
    {
      "cell_type": "markdown",
      "source": [
        "## Data Science Tools\n",
        "\n",
        "| Tool            | Description                      |\n",
        "|----------------|--------------------------------|\n",
        "| Jupyter Notebook | Interactive computing environment |\n",
        "| RStudio         | IDE for R programming         |\n",
        "| Apache Spark    | Big data processing framework |\n",
        "| Tableau         | Data visualization tool       |\n",
        "| TensorFlow      | Machine learning framework    |\n"
      ],
      "metadata": {
        "id": "COZUEaDorvQS"
      }
    },
    {
      "cell_type": "markdown",
      "source": [
        "## Arithmetic Expression Examples\n",
        "Arithmetic expressions involve basic mathematical operations such as addition, subtraction, multiplication, and division.\n"
      ],
      "metadata": {
        "id": "HbjNNDS-r4D5"
      }
    },
    {
      "cell_type": "code",
      "source": [
        "# Multiply and add numbers\n",
        "a = 5\n",
        "b = 10\n",
        "result = (a * b) + 20\n",
        "print(\"Result:\", result)\n"
      ],
      "metadata": {
        "colab": {
          "base_uri": "https://localhost:8080/"
        },
        "id": "hlzd0TeUr8j9",
        "outputId": "473ae5e2-fdac-4b14-8380-6d5cd9b84b0f"
      },
      "execution_count": 1,
      "outputs": [
        {
          "output_type": "stream",
          "name": "stdout",
          "text": [
            "Result: 70\n"
          ]
        }
      ]
    },
    {
      "cell_type": "code",
      "source": [
        "# Convert minutes to hours\n",
        "minutes = 150\n",
        "hours = minutes / 60\n",
        "print(\"Hours:\", hours)\n"
      ],
      "metadata": {
        "colab": {
          "base_uri": "https://localhost:8080/"
        },
        "id": "w24lKt8PsGJZ",
        "outputId": "d0921719-fb33-4d31-beac-2f889f2946e3"
      },
      "execution_count": 2,
      "outputs": [
        {
          "output_type": "stream",
          "name": "stdout",
          "text": [
            "Hours: 2.5\n"
          ]
        }
      ]
    },
    {
      "cell_type": "code",
      "source": [],
      "metadata": {
        "id": "-wW8PA89sJ7S"
      },
      "execution_count": 2,
      "outputs": []
    },
    {
      "cell_type": "markdown",
      "source": [
        "## Objectives\n",
        "- Understand Data Science languages and libraries\n",
        "- Learn about key Data Science tools\n",
        "- Practice basic arithmetic operations in Python\n",
        "- Convert time units using Python\n"
      ],
      "metadata": {
        "id": "Nzrl-cG6sMDX"
      }
    },
    {
      "cell_type": "markdown",
      "source": [
        "## Author\n",
        "**Trung Hieu**\n",
        "\n"
      ],
      "metadata": {
        "id": "HiUFtPbVsWVL"
      }
    }
  ]
}